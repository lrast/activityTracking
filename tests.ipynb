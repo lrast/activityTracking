{
 "cells": [
  {
   "cell_type": "markdown",
   "id": "51f9ac08-0435-41d4-8d56-5ab6f13dc53c",
   "metadata": {},
   "source": [
    "# Tests"
   ]
  },
  {
   "cell_type": "markdown",
   "id": "8224909c-d597-4852-88b5-87da503e7a56",
   "metadata": {},
   "source": [
    "## Tracking hooks"
   ]
  },
  {
   "cell_type": "markdown",
   "id": "e44b5972-de11-4d9c-b33e-e1a91a167201",
   "metadata": {},
   "source": [
    "#### Make sure that outputs are inputs to the next layer"
   ]
  },
  {
   "cell_type": "code",
   "execution_count": 1,
   "id": "0e80e725-cc21-454e-b988-c76c518a511d",
   "metadata": {
    "scrolled": true
   },
   "outputs": [
    {
     "name": "stdout",
     "output_type": "stream",
     "text": [
      "Requirement already satisfied: torchvision in ./testenv/lib/python3.12/site-packages (0.22.0)\n",
      "Requirement already satisfied: numpy in ./testenv/lib/python3.12/site-packages (from torchvision) (2.2.5)\n",
      "Requirement already satisfied: torch==2.7.0 in ./testenv/lib/python3.12/site-packages (from torchvision) (2.7.0)\n",
      "Requirement already satisfied: pillow!=8.3.*,>=5.3.0 in ./testenv/lib/python3.12/site-packages (from torchvision) (11.2.1)\n",
      "Requirement already satisfied: filelock in ./testenv/lib/python3.12/site-packages (from torch==2.7.0->torchvision) (3.18.0)\n",
      "Requirement already satisfied: typing-extensions>=4.10.0 in ./testenv/lib/python3.12/site-packages (from torch==2.7.0->torchvision) (4.13.2)\n",
      "Requirement already satisfied: setuptools in ./testenv/lib/python3.12/site-packages (from torch==2.7.0->torchvision) (80.0.0)\n",
      "Requirement already satisfied: sympy>=1.13.3 in ./testenv/lib/python3.12/site-packages (from torch==2.7.0->torchvision) (1.14.0)\n",
      "Requirement already satisfied: networkx in ./testenv/lib/python3.12/site-packages (from torch==2.7.0->torchvision) (3.4.2)\n",
      "Requirement already satisfied: jinja2 in ./testenv/lib/python3.12/site-packages (from torch==2.7.0->torchvision) (3.1.6)\n",
      "Requirement already satisfied: fsspec in ./testenv/lib/python3.12/site-packages (from torch==2.7.0->torchvision) (2025.3.2)\n",
      "Requirement already satisfied: mpmath<1.4,>=1.1.0 in ./testenv/lib/python3.12/site-packages (from sympy>=1.13.3->torch==2.7.0->torchvision) (1.3.0)\n",
      "Requirement already satisfied: MarkupSafe>=2.0 in ./testenv/lib/python3.12/site-packages (from jinja2->torch==2.7.0->torchvision) (3.0.2)\n"
     ]
    }
   ],
   "source": [
    "!pip install torchvision"
   ]
  },
  {
   "cell_type": "code",
   "execution_count": 2,
   "id": "51b96b0c-faaf-4f33-9965-053a152d6521",
   "metadata": {},
   "outputs": [],
   "source": [
    "import torch\n",
    "from torchvision.models import resnet50\n",
    "from src.monitoring import activate_model_tracking, clear_hooks"
   ]
  },
  {
   "cell_type": "code",
   "execution_count": 3,
   "id": "e11f0437-5174-4bd7-85f6-7e637f6ee3da",
   "metadata": {},
   "outputs": [],
   "source": [
    "model = resnet50()"
   ]
  },
  {
   "cell_type": "code",
   "execution_count": 4,
   "id": "84e409d0-a61a-4394-9a94-c90a909c705b",
   "metadata": {
    "scrolled": true
   },
   "outputs": [],
   "source": [
    "storage = {}\n",
    "\n",
    "def add_to_storage(name, output, input):\n",
    "    storage[name + '_in'] = input\n",
    "    storage[name + '_out'] = output"
   ]
  },
  {
   "cell_type": "code",
   "execution_count": 5,
   "id": "8812fddb-c4cd-4444-8e74-3040c2dd69e3",
   "metadata": {},
   "outputs": [],
   "source": [
    "hooks = activate_model_tracking(model, ['layer1', 'layer2', 'layer3', 'layer4'], add_to_storage, track_inputs=True)"
   ]
  },
  {
   "cell_type": "code",
   "execution_count": 6,
   "id": "9d453c1a-10ea-4cca-8987-35a5cfe83de6",
   "metadata": {},
   "outputs": [],
   "source": [
    "output = model.forward(torch.randn(1,3, 250, 250))"
   ]
  },
  {
   "cell_type": "code",
   "execution_count": 7,
   "id": "dd961a84-9887-42a3-8e19-60934c21b5e8",
   "metadata": {},
   "outputs": [],
   "source": [
    "assert (storage['layer1_out'] == storage['layer2_in']).all()\n",
    "assert (storage['layer2_out'] == storage['layer3_in']).all()\n",
    "assert (storage['layer3_out'] == storage['layer4_in']).all()"
   ]
  },
  {
   "cell_type": "code",
   "execution_count": 8,
   "id": "20bdafba-6678-4e4e-a8e6-0a7cb70f43b0",
   "metadata": {},
   "outputs": [],
   "source": [
    "clear_hooks(hooks)"
   ]
  },
  {
   "cell_type": "markdown",
   "id": "c2315347-36e9-436a-b6b1-54f8acf5117b",
   "metadata": {},
   "source": [
    "#### make sure that batches are written properly to storage"
   ]
  },
  {
   "cell_type": "code",
   "execution_count": 9,
   "id": "74bfc617-ece3-45ca-9439-ea682423fa08",
   "metadata": {},
   "outputs": [],
   "source": [
    "# reset the storage\n",
    "storage = {}\n",
    "\n",
    "def add_to_storage(name, output, input):\n",
    "    storage[name + '_in'] = input\n",
    "    storage[name + '_out'] = output"
   ]
  },
  {
   "cell_type": "code",
   "execution_count": 10,
   "id": "089d0a51-3542-43a6-b9c9-adcd946ed97c",
   "metadata": {},
   "outputs": [],
   "source": [
    "hooks = activate_model_tracking(model, ['layer1', 'layer2', 'layer3', 'layer4'], add_to_storage, track_inputs=True)"
   ]
  },
  {
   "cell_type": "code",
   "execution_count": 11,
   "id": "b7a6840e-5993-4fc3-a4f8-8f06aebf89fb",
   "metadata": {},
   "outputs": [],
   "source": [
    "d = 10\n",
    "output = model.forward(torch.randn(d, 3, 250, 250))"
   ]
  },
  {
   "cell_type": "code",
   "execution_count": 12,
   "id": "a0f3da02-fa6b-4423-a759-bb6dc9ce83b5",
   "metadata": {},
   "outputs": [],
   "source": [
    "# Check batching\n",
    "assert storage['layer2_out'].shape[0] == d"
   ]
  },
  {
   "cell_type": "markdown",
   "id": "e0c23300-b737-478e-a419-0467adcf8a29",
   "metadata": {},
   "source": [
    "### make sure that the hooks are properly removed"
   ]
  },
  {
   "cell_type": "code",
   "execution_count": 13,
   "id": "b3c5a2c7-8ebe-4724-a9c4-7e9dff88fc33",
   "metadata": {
    "scrolled": true
   },
   "outputs": [
    {
     "data": {
      "text/plain": [
       "Sequential(\n",
       "  (0): Bottleneck(\n",
       "    (conv1): Conv2d(64, 64, kernel_size=(1, 1), stride=(1, 1), bias=False)\n",
       "    (bn1): BatchNorm2d(64, eps=1e-05, momentum=0.1, affine=True, track_running_stats=True)\n",
       "    (conv2): Conv2d(64, 64, kernel_size=(3, 3), stride=(1, 1), padding=(1, 1), bias=False)\n",
       "    (bn2): BatchNorm2d(64, eps=1e-05, momentum=0.1, affine=True, track_running_stats=True)\n",
       "    (conv3): Conv2d(64, 256, kernel_size=(1, 1), stride=(1, 1), bias=False)\n",
       "    (bn3): BatchNorm2d(256, eps=1e-05, momentum=0.1, affine=True, track_running_stats=True)\n",
       "    (relu): ReLU(inplace=True)\n",
       "    (downsample): Sequential(\n",
       "      (0): Conv2d(64, 256, kernel_size=(1, 1), stride=(1, 1), bias=False)\n",
       "      (1): BatchNorm2d(256, eps=1e-05, momentum=0.1, affine=True, track_running_stats=True)\n",
       "    )\n",
       "  )\n",
       "  (1): Bottleneck(\n",
       "    (conv1): Conv2d(256, 64, kernel_size=(1, 1), stride=(1, 1), bias=False)\n",
       "    (bn1): BatchNorm2d(64, eps=1e-05, momentum=0.1, affine=True, track_running_stats=True)\n",
       "    (conv2): Conv2d(64, 64, kernel_size=(3, 3), stride=(1, 1), padding=(1, 1), bias=False)\n",
       "    (bn2): BatchNorm2d(64, eps=1e-05, momentum=0.1, affine=True, track_running_stats=True)\n",
       "    (conv3): Conv2d(64, 256, kernel_size=(1, 1), stride=(1, 1), bias=False)\n",
       "    (bn3): BatchNorm2d(256, eps=1e-05, momentum=0.1, affine=True, track_running_stats=True)\n",
       "    (relu): ReLU(inplace=True)\n",
       "  )\n",
       "  (2): Bottleneck(\n",
       "    (conv1): Conv2d(256, 64, kernel_size=(1, 1), stride=(1, 1), bias=False)\n",
       "    (bn1): BatchNorm2d(64, eps=1e-05, momentum=0.1, affine=True, track_running_stats=True)\n",
       "    (conv2): Conv2d(64, 64, kernel_size=(3, 3), stride=(1, 1), padding=(1, 1), bias=False)\n",
       "    (bn2): BatchNorm2d(64, eps=1e-05, momentum=0.1, affine=True, track_running_stats=True)\n",
       "    (conv3): Conv2d(64, 256, kernel_size=(1, 1), stride=(1, 1), bias=False)\n",
       "    (bn3): BatchNorm2d(256, eps=1e-05, momentum=0.1, affine=True, track_running_stats=True)\n",
       "    (relu): ReLU(inplace=True)\n",
       "  )\n",
       ")"
      ]
     },
     "execution_count": 13,
     "metadata": {},
     "output_type": "execute_result"
    }
   ],
   "source": [
    "model.layer1"
   ]
  },
  {
   "cell_type": "code",
   "execution_count": 14,
   "id": "dd105c04-61cb-4b4d-9842-6cbfb80fdeb0",
   "metadata": {},
   "outputs": [],
   "source": [
    "assert len(model.layer1._forward_hooks) == 1"
   ]
  },
  {
   "cell_type": "code",
   "execution_count": 15,
   "id": "87a96293-9173-4592-afe0-6da50e8b264f",
   "metadata": {},
   "outputs": [],
   "source": [
    "clear_hooks(hooks)"
   ]
  },
  {
   "cell_type": "code",
   "execution_count": 16,
   "id": "c7a643ae-e4ba-4f3e-b9fc-c7b3719bec84",
   "metadata": {},
   "outputs": [],
   "source": [
    "assert len(model.layer1._forward_hooks) == 0"
   ]
  },
  {
   "cell_type": "markdown",
   "id": "33b081c8-a993-4168-a14c-bfe813b9519a",
   "metadata": {},
   "source": [
    "## Recording activity into a dataset"
   ]
  },
  {
   "cell_type": "code",
   "execution_count": 17,
   "id": "02fdca79-45aa-4afa-9d8c-548579f675f6",
   "metadata": {},
   "outputs": [],
   "source": [
    "import torch\n",
    "from torch.utils.data import DataLoader\n",
    "\n",
    "import torchvision.transforms as transforms\n",
    "from torchvision.models import resnet50, ResNet50_Weights\n",
    "from torchvision.datasets import CIFAR10\n",
    "\n",
    "from activity_tracking import *"
   ]
  },
  {
   "cell_type": "code",
   "execution_count": 18,
   "id": "714b2d1a-5d03-4e4c-a209-5cfe60fb41eb",
   "metadata": {},
   "outputs": [],
   "source": [
    "model = resnet50(weights=ResNet50_Weights.DEFAULT)"
   ]
  },
  {
   "cell_type": "code",
   "execution_count": 19,
   "id": "d9f83d8d-05c2-4f18-8484-be11f163aaaf",
   "metadata": {},
   "outputs": [],
   "source": [
    "from activity_tracking import ActivityRecorder"
   ]
  },
  {
   "cell_type": "code",
   "execution_count": 20,
   "id": "afc64724-09d6-457e-85f1-cf04b535939a",
   "metadata": {},
   "outputs": [],
   "source": [
    "tracker = ActivityRecorder(model, ['layer1', 'layer2', 'layer3', 'layer4'], 'activitydata/')"
   ]
  },
  {
   "cell_type": "code",
   "execution_count": 21,
   "id": "e97fb522-fb06-48af-a7eb-c2a68259bf95",
   "metadata": {},
   "outputs": [],
   "source": [
    "transform = transforms.Compose(\n",
    "    [transforms.Resize((224, 224)),\n",
    "     transforms.ToTensor(),\n",
    "     transforms.Normalize((0.5, 0.5, 0.5), (0.5, 0.5, 0.5))])\n",
    "cifar_train = CIFAR10('/Users/luke/Datasets/', download=True, transform=transform)"
   ]
  },
  {
   "cell_type": "code",
   "execution_count": null,
   "id": "115e0fe1-92b0-4aba-b1f1-a018680c71c6",
   "metadata": {},
   "outputs": [],
   "source": []
  },
  {
   "cell_type": "markdown",
   "id": "74450bf5-4891-4351-a82e-dc3908627b0a",
   "metadata": {},
   "source": [
    "#### test data read and write "
   ]
  },
  {
   "cell_type": "code",
   "execution_count": 22,
   "id": "3f0807ff-705e-463e-922a-46cb48652434",
   "metadata": {},
   "outputs": [],
   "source": [
    "!mkdir activitydata"
   ]
  },
  {
   "cell_type": "code",
   "execution_count": 23,
   "id": "ce187350-f96e-4ccd-b173-4b47313a7e91",
   "metadata": {},
   "outputs": [],
   "source": [
    "dl = DataLoader(cifar_train, batch_size=10)\n",
    "dl_iter = iter(dl)\n",
    "\n",
    "i = 0\n",
    "for batch in dl_iter:\n",
    "    model.forward(batch[0])\n",
    "\n",
    "    if i >=4:\n",
    "        break\n",
    "    i += 1"
   ]
  },
  {
   "cell_type": "code",
   "execution_count": 24,
   "id": "0dfbcd82-b7d6-4d78-9fdb-c0788c5c7dbe",
   "metadata": {},
   "outputs": [],
   "source": [
    "layer1_activity = torch.stack(tracker.buffers['layer1'])\n",
    "layer2_activity = torch.stack(tracker.buffers['layer2'])\n",
    "layer3_activity = torch.stack(tracker.buffers['layer3'])\n",
    "layer4_activity = torch.stack(tracker.buffers['layer4'])"
   ]
  },
  {
   "cell_type": "code",
   "execution_count": 25,
   "id": "0f6891e2-ee1d-4be5-a20b-1f4d4fb04d38",
   "metadata": {},
   "outputs": [
    {
     "data": {
      "text/plain": [
       "torch.Size([50, 256, 56, 56])"
      ]
     },
     "execution_count": 25,
     "metadata": {},
     "output_type": "execute_result"
    }
   ],
   "source": [
    "layer1_activity.shape"
   ]
  },
  {
   "cell_type": "code",
   "execution_count": 26,
   "id": "d1c47103-1653-4d51-94c0-6460b0979ed0",
   "metadata": {},
   "outputs": [],
   "source": [
    "tracker.close()"
   ]
  },
  {
   "cell_type": "code",
   "execution_count": 27,
   "id": "971b8868-ffc4-4ee1-aed5-5f0aeb24df79",
   "metadata": {},
   "outputs": [],
   "source": [
    "activity_data = ActivityDataset('./activitydata')\n",
    "dl = DataLoader(activity_data, batch_size=20)\n",
    "batch = next(iter(dl))"
   ]
  },
  {
   "cell_type": "code",
   "execution_count": 28,
   "id": "57cea8fd-fb71-441d-a38a-4dbbfa00df32",
   "metadata": {},
   "outputs": [],
   "source": [
    "# are we loading the right number of datapoints?\n",
    "assert len(batch) == len(activity_data.layer_names)"
   ]
  },
  {
   "cell_type": "code",
   "execution_count": 29,
   "id": "b0b4db70-0770-48fa-9ac5-b161eb7cf93d",
   "metadata": {},
   "outputs": [],
   "source": [
    "# are we loading the correct shape of the data\n",
    "assert batch[0].shape == torch.Size([20, 256, 56, 56])"
   ]
  },
  {
   "cell_type": "code",
   "execution_count": 30,
   "id": "0545ceea-42d2-489d-8800-3d1bfd3e2d89",
   "metadata": {},
   "outputs": [],
   "source": [
    "# are we loading the data that we think we are loading \n",
    "assert (layer1_activity[0:20] == batch[0]).all()\n",
    "assert (layer2_activity[0:20] == batch[1]).all()\n",
    "assert (layer3_activity[0:20] == batch[2]).all()\n",
    "assert (layer4_activity[0:20] == batch[3]).all()"
   ]
  },
  {
   "cell_type": "code",
   "execution_count": 31,
   "id": "2772985d-966a-4453-86b2-10d8584b9c75",
   "metadata": {},
   "outputs": [],
   "source": [
    "!rm -r activitydata"
   ]
  },
  {
   "cell_type": "code",
   "execution_count": 32,
   "id": "8bb85b67-21bb-4ed6-b69c-b818115ff5f3",
   "metadata": {},
   "outputs": [],
   "source": [
    "# Make sure that the hooks are cleared by closing\n",
    "assert not len(model.layer3._forward_hooks)"
   ]
  },
  {
   "cell_type": "code",
   "execution_count": null,
   "id": "35356da8-c39e-4577-8daf-384c2ad08423",
   "metadata": {},
   "outputs": [],
   "source": []
  },
  {
   "cell_type": "markdown",
   "id": "7521146b-bcf2-4ae4-9f3a-94004a8bf75b",
   "metadata": {},
   "source": [
    "#### Input data recording"
   ]
  },
  {
   "cell_type": "code",
   "execution_count": 33,
   "id": "c44fe721-21ab-4bb4-9f6e-102aecc8a575",
   "metadata": {},
   "outputs": [],
   "source": [
    "!mkdir activitydata"
   ]
  },
  {
   "cell_type": "code",
   "execution_count": 34,
   "id": "cdb35187-8275-49ab-91e2-28c8660db953",
   "metadata": {},
   "outputs": [],
   "source": [
    "tracker = ActivityRecorder(model, ['layer1', 'layer2', 'layer3', 'layer4'], 'activitydata/', track_inputs=True)"
   ]
  },
  {
   "cell_type": "code",
   "execution_count": 35,
   "id": "d7852634-6d2b-474f-b830-f378a27750a7",
   "metadata": {},
   "outputs": [],
   "source": [
    "dl = DataLoader(cifar_train, batch_size=10)\n",
    "dl_iter = iter(dl)\n",
    "\n",
    "i = 0\n",
    "for batch in dl_iter:\n",
    "    model.forward(batch[0])\n",
    "\n",
    "    if i >=4:\n",
    "        break\n",
    "    i += 1"
   ]
  },
  {
   "cell_type": "code",
   "execution_count": 36,
   "id": "37572581-dbe9-4ce8-a930-66bfdc8e8d4d",
   "metadata": {},
   "outputs": [],
   "source": [
    "tracker.close()"
   ]
  },
  {
   "cell_type": "code",
   "execution_count": 37,
   "id": "3a18459c-1aab-4d14-aae2-a22e6cbbcf0d",
   "metadata": {},
   "outputs": [],
   "source": [
    "import os\n",
    "assert len(os.listdir('activitydata/')) == 9"
   ]
  },
  {
   "cell_type": "code",
   "execution_count": 38,
   "id": "bdcd03a6-7a48-42ca-98c7-735602c15dfc",
   "metadata": {},
   "outputs": [],
   "source": [
    "!rm -r activitydata"
   ]
  },
  {
   "cell_type": "code",
   "execution_count": null,
   "id": "2c7e6d4d-6d83-4516-a54a-7fa513a2be26",
   "metadata": {},
   "outputs": [],
   "source": []
  }
 ],
 "metadata": {
  "kernelspec": {
   "display_name": "Python 3 (ipykernel)",
   "language": "python",
   "name": "python3"
  },
  "language_info": {
   "codemirror_mode": {
    "name": "ipython",
    "version": 3
   },
   "file_extension": ".py",
   "mimetype": "text/x-python",
   "name": "python",
   "nbconvert_exporter": "python",
   "pygments_lexer": "ipython3",
   "version": "3.12.9"
  }
 },
 "nbformat": 4,
 "nbformat_minor": 5
}
